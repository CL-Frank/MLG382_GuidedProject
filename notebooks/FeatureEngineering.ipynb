{
 "cells": [
  {
   "cell_type": "code",
   "execution_count": 59,
   "id": "63bf429e",
   "metadata": {},
   "outputs": [
    {
     "name": "stdout",
     "output_type": "stream",
     "text": [
      "\n",
      "Final Feature Set Columns:\n",
      " Index(['Age', 'Gender', 'StudyTimeWeekly', 'Absences', 'Tutoring',\n",
      "       'ParentalSupport', 'Extracurricular', 'Sports', 'Music', 'Volunteering',\n",
      "       'GPA', 'StudyTimePerAbsence', 'TotalExtracurricular', 'Ethnicity_1',\n",
      "       'Ethnicity_2', 'Ethnicity_3', 'ParentalEducation_1',\n",
      "       'ParentalEducation_2', 'ParentalEducation_3', 'ParentalEducation_4',\n",
      "       'StudyTimeCategory_Moderate', 'StudyTimeCategory_High',\n",
      "       'StudyTimeCategory_Very High'],\n",
      "      dtype='object')\n",
      "\n",
      "First 5 rows of processed dataset:\n",
      "                 Age  Gender   StudyTimeWeekly          Absences  Tutoring  \\\n",
      "0  StandardScaler()       1  StandardScaler()  StandardScaler()         1   \n",
      "1  StandardScaler()       0  StandardScaler()  StandardScaler()         0   \n",
      "2  StandardScaler()       0  StandardScaler()  StandardScaler()         0   \n",
      "3  StandardScaler()       1  StandardScaler()  StandardScaler()         0   \n",
      "4  StandardScaler()       1  StandardScaler()  StandardScaler()         1   \n",
      "\n",
      "   ParentalSupport  Extracurricular  Sports  Music  Volunteering  ...  \\\n",
      "0                2                0       0      1             0  ...   \n",
      "1                1                0       0      0             0  ...   \n",
      "2                2                0       0      0             0  ...   \n",
      "3                3                1       0      0             0  ...   \n",
      "4                3                0       0      0             0  ...   \n",
      "\n",
      "  Ethnicity_1 Ethnicity_2 Ethnicity_3  ParentalEducation_1  \\\n",
      "0       False       False       False                False   \n",
      "1       False       False       False                 True   \n",
      "2       False        True       False                False   \n",
      "3       False       False       False                False   \n",
      "4       False       False       False                False   \n",
      "\n",
      "   ParentalEducation_2  ParentalEducation_3  ParentalEducation_4  \\\n",
      "0                 True                False                False   \n",
      "1                False                False                False   \n",
      "2                False                 True                False   \n",
      "3                False                 True                False   \n",
      "4                 True                False                False   \n",
      "\n",
      "   StudyTimeCategory_Moderate  StudyTimeCategory_High  \\\n",
      "0                       False                   False   \n",
      "1                       False                   False   \n",
      "2                       False                   False   \n",
      "3                       False                    True   \n",
      "4                       False                   False   \n",
      "\n",
      "   StudyTimeCategory_Very High  \n",
      "0                         True  \n",
      "1                         True  \n",
      "2                        False  \n",
      "3                        False  \n",
      "4                        False  \n",
      "\n",
      "[5 rows x 23 columns]\n",
      "\n",
      "Processed dataset saved as 'Processed_Student_Performance.csv'\n"
     ]
    }
   ],
   "source": [
    "import pandas as pd\n",
    "import numpy as np\n",
    "import pickle\n",
    "import os\n",
    "from sklearn.preprocessing import StandardScaler\n",
    "from sklearn.metrics import accuracy_score, precision_score, recall_score, f1_score, roc_auc_score, confusion_matrix\n",
    "import scipy.stats as stats\n",
    "import tabulate\n",
    "import matplotlib.pyplot as plt\n",
    "import seaborn as sns\n",
    "\n",
    "# Load the dataset from a CSV file\n",
    "data = pd.read_csv(\"../data/Student_performance_data .csv\")  \n",
    "\n",
    "# Feature Engineering\n",
    "\n",
    "# Creating new features\n",
    "data['StudyTimePerAbsence'] = data['StudyTimeWeekly'] / (data['Absences'] + 1)\n",
    "\n",
    "data['TotalExtracurricular'] = data[['Extracurricular', 'Sports', 'Music', 'Volunteering']].sum(axis=1)\n",
    "\n",
    "# StudyTimeWeekly to be divided into categories\n",
    "bins = [0, 5, 10, 15, 20]\n",
    "labels = ['Low', 'Moderate', 'High', 'Very High']\n",
    "data['StudyTimeCategory'] = pd.cut(data['StudyTimeWeekly'], bins=bins, labels=labels, include_lowest=True)\n",
    "\n",
    "categorical_cols_to_encode = ['Ethnicity', 'ParentalEducation', 'StudyTimeCategory']\n",
    "data_encoded = pd.get_dummies(data, columns=categorical_cols_to_encode, drop_first=True)\n",
    "\n",
    "scaler = StandardScaler()\n",
    "numerical_cols_to_scale = ['Age','StudyTimeWeekly', 'Absences', 'GPA', 'StudyTimePerAbsence', 'TotalExtracurricular']\n",
    "scaler.fit_transform(data_encoded[numerical_cols_to_scale])\n",
    "data_encoded[numerical_cols_to_scale] = scaler\n",
    "\n",
    "\n",
    "\n",
    "# Drop columns of the dataset that are unnecessary\n",
    "data_encoded.drop(['StudentID', 'GradeClass'], axis=1, inplace=True) \n",
    "\n",
    "# For the final dataset to display\n",
    "print(\"\\nFinal Feature Set Columns:\\n\", data_encoded.columns)\n",
    "print(\"\\nFirst 5 rows of processed dataset:\\n\", data_encoded.head())\n",
    "\n",
    "# This saves the new processed dataset\n",
    "data_encoded.to_csv(\"Processed_Student_Performance.csv\", index=False)\n",
    "print(\"\\nProcessed dataset saved as 'Processed_Student_Performance.csv'\")\n",
    "\n",
    "\n"
   ]
  },
  {
   "cell_type": "code",
   "execution_count": 60,
   "id": "edb35f54",
   "metadata": {},
   "outputs": [
    {
     "name": "stdout",
     "output_type": "stream",
     "text": [
      "\n",
      "\n",
      "Features Saved Index(['Age', 'Gender', 'StudyTimeWeekly', 'Absences', 'Tutoring',\n",
      "       'ParentalSupport', 'Extracurricular', 'Sports', 'Music', 'Volunteering',\n",
      "       'GPA', 'StudyTimePerAbsence', 'TotalExtracurricular', 'Ethnicity_1',\n",
      "       'Ethnicity_2', 'Ethnicity_3', 'ParentalEducation_1',\n",
      "       'ParentalEducation_2', 'ParentalEducation_3', 'ParentalEducation_4',\n",
      "       'StudyTimeCategory_Moderate', 'StudyTimeCategory_High',\n",
      "       'StudyTimeCategory_Very High'],\n",
      "      dtype='object')\n"
     ]
    }
   ],
   "source": [
    "print(f'\\n\\nFeatures Saved {data_encoded.columns}')\n",
    "with open(\"features.pkl\", \"wb\") as f:\n",
    "    pickle.dump(data_encoded.columns.tolist(), f)\n",
    "\n",
    "with open(\"scaler.pkl\", \"wb\") as f:\n",
    "    pickle.dump(scaler, f)"
   ]
  },
  {
   "cell_type": "code",
   "execution_count": 61,
   "id": "6c174f47",
   "metadata": {},
   "outputs": [],
   "source": [
    "# import pickle\n",
    "# features = data_encoded.columns\n",
    "# with open('features.pkl', 'wb') as f:\n",
    "#     pickle.dump(features, f)"
   ]
  },
  {
   "cell_type": "code",
   "execution_count": 62,
   "id": "bfdc2da1",
   "metadata": {},
   "outputs": [],
   "source": [
    "\n",
    "# scaler.fit_transform(data_encoded[numerical_cols_to_scale])\n",
    "# with open('scaler.pkl', 'wb') as f:\n",
    "#     pickle.dump(scaler, f)"
   ]
  }
 ],
 "metadata": {
  "kernelspec": {
   "display_name": "Python 3",
   "language": "python",
   "name": "python3"
  },
  "language_info": {
   "codemirror_mode": {
    "name": "ipython",
    "version": 3
   },
   "file_extension": ".py",
   "mimetype": "text/x-python",
   "name": "python",
   "nbconvert_exporter": "python",
   "pygments_lexer": "ipython3",
   "version": "3.12.10"
  }
 },
 "nbformat": 4,
 "nbformat_minor": 5
}
